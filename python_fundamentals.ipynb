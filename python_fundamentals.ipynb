{
  "nbformat": 4,
  "nbformat_minor": 0,
  "metadata": {
    "colab": {
      "provenance": [],
      "authorship_tag": "ABX9TyOaX/5iCEPa0Ypqh7+HAOgf",
      "include_colab_link": true
    },
    "kernelspec": {
      "name": "python3",
      "display_name": "Python 3"
    },
    "language_info": {
      "name": "python"
    }
  },
  "cells": [
    {
      "cell_type": "markdown",
      "metadata": {
        "id": "view-in-github",
        "colab_type": "text"
      },
      "source": [
        "<a href=\"https://colab.research.google.com/github/tanmay-nemade/python_training/blob/main/python_fundamentals.ipynb\" target=\"_parent\"><img src=\"https://colab.research.google.com/assets/colab-badge.svg\" alt=\"Open In Colab\"/></a>"
      ]
    },
    {
      "cell_type": "markdown",
      "source": [
        "Taking input from user"
      ],
      "metadata": {
        "id": "qavjUpv8ebRS"
      }
    },
    {
      "cell_type": "code",
      "execution_count": null,
      "metadata": {
        "colab": {
          "base_uri": "https://localhost:8080/"
        },
        "id": "grVpOde_eXS5",
        "outputId": "f3b7a22b-a883-4edb-8e36-e5b09730770e"
      },
      "outputs": [
        {
          "name": "stdout",
          "output_type": "stream",
          "text": [
            "Enter a stringInput\n"
          ]
        }
      ],
      "source": [
        "x = input('Enter a string')"
      ]
    },
    {
      "cell_type": "markdown",
      "source": [
        "Printing output"
      ],
      "metadata": {
        "id": "Yi_8DcIrgFG6"
      }
    },
    {
      "cell_type": "code",
      "source": [
        "print(x)"
      ],
      "metadata": {
        "id": "rwVcYMawgBj6",
        "outputId": "f1705d72-cb16-48c1-ce6a-145031d15e22",
        "colab": {
          "base_uri": "https://localhost:8080/"
        }
      },
      "execution_count": null,
      "outputs": [
        {
          "output_type": "stream",
          "name": "stdout",
          "text": [
            "Input\n"
          ]
        }
      ]
    }
  ]
}